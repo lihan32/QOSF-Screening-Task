{
 "cells": [
  {
   "cell_type": "code",
   "execution_count": 71,
   "metadata": {},
   "outputs": [],
   "source": [
    "import qiskit\n",
    "import qiskit.circuit\n",
    "import autograd.numpy as np\n",
    "from qiskit import execute, Aer\n",
    "from qiskit.circuit import Parameter, QuantumCircuit\n",
    "import math"
   ]
  },
  {
   "cell_type": "markdown",
   "metadata": {},
   "source": [
    "I am doing the task 2 for the screening tasks. I am using qiskit quantum simulator. This task requires me to train a quantum circuit that will return |01> and |10> with equal ability. In order to do this task, I first design a quantum circuit that exactly has this function. Now, all the thing I need to do is to change the Pauli-X or Pauli-Y gates to Rotation-X or Rotation-Y gates, and start a traning"
   ]
  },
  {
   "cell_type": "code",
   "execution_count": 16,
   "metadata": {},
   "outputs": [
    {
     "data": {
      "text/html": [
       "<pre style=\"word-wrap: normal;white-space: pre;background: #fff0;line-height: 1.1;font-family: &quot;Courier New&quot;,Courier,monospace\">        ┌───┐┌───┐┌──────────┐          \n",
       "q_0: |0>┤ X ├┤ Y ├┤ Ry(pi/2) ├──■───────\n",
       "        └───┘└───┘└──────────┘┌─┴─┐┌───┐\n",
       "q_1: |0>──────────────────────┤ X ├┤ X ├\n",
       "                              └───┘└───┘\n",
       " c_0: 0 ════════════════════════════════\n",
       "                                        </pre>"
      ],
      "text/plain": [
       "<qiskit.visualization.text.TextDrawing at 0x2096da70da0>"
      ]
     },
     "execution_count": 16,
     "metadata": {},
     "output_type": "execute_result"
    }
   ],
   "source": [
    "circuit_sample=QuantumCircuit(2,1)\n",
    "circuit_sample.x(0)\n",
    "circuit_sample.y(0)\n",
    "circuit_sample.ry(np.pi/2,0)\n",
    "circuit_sample.cnot(0,1)\n",
    "circuit_sample.x(1)\n",
    "circuit_sample.draw()"
   ]
  },
  {
   "cell_type": "markdown",
   "metadata": {},
   "source": [
    "First, we build the training model and initialize training parameters"
   ]
  },
  {
   "cell_type": "code",
   "execution_count": 72,
   "metadata": {},
   "outputs": [
    {
     "data": {
      "text/html": [
       "<pre style=\"word-wrap: normal;white-space: pre;background: #fff0;line-height: 1.1;font-family: &quot;Courier New&quot;,Courier,monospace\">        ┌───────┐┌───────┐              \n",
       "q_0: |0>┤ Rx(A) ├┤ Ry(B) ├──■───────────\n",
       "        └───────┘└───────┘┌─┴─┐┌───────┐\n",
       "q_1: |0>──────────────────┤ X ├┤ Rx(C) ├\n",
       "                          └───┘└───────┘</pre>"
      ],
      "text/plain": [
       "<qiskit.visualization.text.TextDrawing at 0x1c5568cdf28>"
      ]
     },
     "execution_count": 72,
     "metadata": {},
     "output_type": "execute_result"
    }
   ],
   "source": [
    "theta=[Parameter('A'),Parameter('B'),Parameter('C')]\n",
    "circuit=QuantumCircuit(2)\n",
    "circuit.rx(theta[0],0)\n",
    "circuit.ry(theta[1],0)\n",
    "circuit.cnot(0,1)\n",
    "circuit.rx(theta[2],1)\n",
    "circuit.draw()"
   ]
  },
  {
   "cell_type": "markdown",
   "metadata": {},
   "source": [
    "Then, we can execute this circuit to get the loss function for gradient descent. The optimization part is done with pennylane package."
   ]
  },
  {
   "cell_type": "code",
   "execution_count": 2,
   "metadata": {},
   "outputs": [],
   "source": [
    "import pennylane as qml\n",
    "from pennylane.devices.default_qubit import DefaultQubit"
   ]
  },
  {
   "cell_type": "markdown",
   "metadata": {},
   "source": [
    "At first, we implement our circuit above in pennylane. This circuit function will input a parameter vector and return the probability of each state after executing this circuit."
   ]
  },
  {
   "cell_type": "code",
   "execution_count": 43,
   "metadata": {},
   "outputs": [],
   "source": [
    "dev = qml.device('default.qubit', wires=2)\n",
    "def quantum_function(theta):\n",
    "    qml.RX(theta[0],wires=0)\n",
    "    qml.RY(theta[1],wires=0)\n",
    "    qml.CNOT(wires=[0,1])\n",
    "    qml.RY(theta[2],wires=1)\n",
    "    return qml.probs(wires=[0,1])"
   ]
  },
  {
   "cell_type": "markdown",
   "metadata": {},
   "source": [
    "We hope the output probability for each state to be [0,0.5,0.5,0]. So, a natural cost function will be the norm bewteen output probability to the desired probability vector"
   ]
  },
  {
   "cell_type": "code",
   "execution_count": 69,
   "metadata": {},
   "outputs": [],
   "source": [
    "circuit1 = qml.QNode(quantum_function, dev)\n",
    "def cost(theta):\n",
    "    return np.linalg.norm([0,0.5,0.5,0]-circuit1(theta))"
   ]
  },
  {
   "cell_type": "markdown",
   "metadata": {},
   "source": [
    "Then, we can start a Gradient descent optimization to find the best angle."
   ]
  },
  {
   "cell_type": "code",
   "execution_count": 60,
   "metadata": {},
   "outputs": [],
   "source": [
    "opt=qml.GradientDescentOptimizer(stepsize=0.1)\n",
    "steps = 100\n",
    "params=np.random.rand(3)"
   ]
  },
  {
   "cell_type": "code",
   "execution_count": 62,
   "metadata": {},
   "outputs": [],
   "source": [
    "for i in range(steps):\n",
    "    # update the circuit parameters\n",
    "    params = opt.step(cost, params)"
   ]
  },
  {
   "cell_type": "code",
   "execution_count": 67,
   "metadata": {},
   "outputs": [
    {
     "data": {
      "text/plain": [
       "array([1.57079633, 1.40479978, 3.07706062])"
      ]
     },
     "execution_count": 67,
     "metadata": {},
     "output_type": "execute_result"
    }
   ],
   "source": [
    "params"
   ]
  },
  {
   "cell_type": "code",
   "execution_count": 70,
   "metadata": {},
   "outputs": [
    {
     "data": {
      "text/plain": [
       "array([0.00052037, 0.49947963, 0.49947963, 0.00052037])"
      ]
     },
     "execution_count": 70,
     "metadata": {},
     "output_type": "execute_result"
    }
   ],
   "source": [
    "circuit1(params)"
   ]
  },
  {
   "cell_type": "markdown",
   "metadata": {},
   "source": [
    "Once we have the angle, we can start a simulation process on qiskit. The qiskit provides a good circuit simulator"
   ]
  },
  {
   "cell_type": "code",
   "execution_count": 114,
   "metadata": {},
   "outputs": [],
   "source": [
    "from qiskit.providers.aer import QasmSimulator, StatevectorSimulator, UnitarySimulator\n",
    "from qiskit import QuantumCircuit, QuantumRegister, ClassicalRegister\n",
    "from qiskit import Aer, execute\n",
    "from qiskit.tools.visualization import plot_histogram, plot_state_city\n",
    "from qiskit.providers.aer.noise import NoiseModel\n",
    "simulator = Aer.get_backend('qasm_simulator')"
   ]
  },
  {
   "cell_type": "code",
   "execution_count": 91,
   "metadata": {},
   "outputs": [
    {
     "data": {
      "text/html": [
       "<pre style=\"word-wrap: normal;white-space: pre;background: #fff0;line-height: 1.1;font-family: &quot;Courier New&quot;,Courier,monospace\">        ┌──────────┐┌────────────┐                   ┌─┐   \n",
       "q_0: |0>┤ Rx(pi/2) ├┤ Ry(1.4048) ├──■────────────────┤M├───\n",
       "        └──────────┘└────────────┘┌─┴─┐┌────────────┐└╥┘┌─┐\n",
       "q_1: |0>──────────────────────────┤ X ├┤ Rx(3.0771) ├─╫─┤M├\n",
       "                                  └───┘└────────────┘ ║ └╥┘\n",
       " c_0: 0 ══════════════════════════════════════════════╩══╬═\n",
       "                                                         ║ \n",
       " c_1: 0 ═════════════════════════════════════════════════╩═\n",
       "                                                           </pre>"
      ],
      "text/plain": [
       "<qiskit.visualization.text.TextDrawing at 0x1c5568daa58>"
      ]
     },
     "execution_count": 91,
     "metadata": {},
     "output_type": "execute_result"
    }
   ],
   "source": [
    "circuit=QuantumCircuit(2,2)\n",
    "circuit.rx(params[0],0)\n",
    "circuit.ry(params[1],0)\n",
    "circuit.cnot(0,1)\n",
    "circuit.rx(params[2],1)\n",
    "circuit.measure([0,1],[0,1])\n",
    "circuit.draw()"
   ]
  },
  {
   "cell_type": "code",
   "execution_count": 118,
   "metadata": {},
   "outputs": [
    {
     "data": {
      "image/png": "[encoded data removed]",
      "text/plain": [
       "<Figure size 504x360 with 1 Axes>"
      ]
     },
     "execution_count": 118,
     "metadata": {},
     "output_type": "execute_result"
    }
   ],
   "source": [
    "'for 10 counts'\n",
    "result = execute(circuit, simulator,shots=10).result()\n",
    "counts = result.get_counts(circuit)\n",
    "plot_histogram(counts, title='Bell-State counts')"
   ]
  },
  {
   "cell_type": "code",
   "execution_count": 119,
   "metadata": {},
   "outputs": [
    {
     "data": {
      "image/png": "[encoded data removed]",
      "text/plain": [
       "<Figure size 504x360 with 1 Axes>"
      ]
     },
     "execution_count": 119,
     "metadata": {},
     "output_type": "execute_result"
    }
   ],
   "source": [
    "'for 100 counts'\n",
    "result = execute(circuit, simulator,shots=100).result()\n",
    "counts = result.get_counts(circuit)\n",
    "plot_histogram(counts, title='Bell-State counts')"
   ]
  },
  {
   "cell_type": "code",
   "execution_count": 120,
   "metadata": {},
   "outputs": [
    {
     "data": {
      "image/png": "[encoded data removed]",
      "text/plain": [
       "<Figure size 504x360 with 1 Axes>"
      ]
     },
     "execution_count": 120,
     "metadata": {},
     "output_type": "execute_result"
    }
   ],
   "source": [
    "'for 1000 counts'\n",
    "result = execute(circuit, simulator,shots=1000).result()\n",
    "counts = result.get_counts(circuit)\n",
    "plot_histogram(counts, title='Bell-State counts')"
   ]
  },
  {
   "cell_type": "code",
   "execution_count": null,
   "metadata": {},
   "outputs": [],
   "source": []
  }
 ],
 "metadata": {
  "kernelspec": {
   "display_name": "Python 3",
   "language": "python",
   "name": "python3"
  },
  "language_info": {
   "codemirror_mode": {
    "name": "ipython",
    "version": 3
   },
   "file_extension": ".py",
   "mimetype": "text/x-python",
   "name": "python",
   "nbconvert_exporter": "python",
   "pygments_lexer": "ipython3",
   "version": "3.6.8"
  }
 },
 "nbformat": 4,
 "nbformat_minor": 2
}
